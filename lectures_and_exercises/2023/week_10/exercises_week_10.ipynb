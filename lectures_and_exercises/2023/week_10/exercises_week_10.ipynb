{
 "cells": [
  {
   "cell_type": "code",
   "execution_count": 93,
   "id": "personal-retention",
   "metadata": {},
   "outputs": [
    {
     "name": "stdout",
     "output_type": "stream",
     "text": [
      "The autoreload extension is already loaded. To reload it, use:\n",
      "  %reload_ext autoreload\n"
     ]
    }
   ],
   "source": [
    "import sys\n",
    "sys.path.insert(0,'C:\\\\code\\\\python_for_the_financial_economist\\\\')\n",
    "\n",
    "\"\"\"\n",
    "Magic commands\n",
    "\"\"\"\n",
    "\n",
    "%load_ext autoreload\n",
    "%autoreload 2\n",
    "\n",
    "\"\"\"\n",
    "Load relevant packages\n",
    "\"\"\"\n",
    "\n",
    "import numpy as np\n",
    "import pandas as pd\n",
    "\n",
    "import matplotlib.pyplot as plt\n",
    "import matplotlib.ticker as ticker\n",
    "import seaborn as sns\n",
    "\n",
    "import datetime\n",
    "\n",
    "from scipy import stats\n",
    "from scipy import optimize\n",
    "from scipy.linalg import block_diag\n",
    "\n",
    "import cvxpy as cp \n",
    "\n",
    "from pandas_datareader.data import DataReader\n",
    "from pandas_datareader.famafrench import FamaFrenchReader, get_available_datasets\n",
    "\n",
    "from typing import Union, List, Tuple\n",
    "\n",
    "\"\"\"\n",
    "Own packages\n",
    "\"\"\"\n",
    "import codelib.portfolio_optimization.risk_metrics as rm \n",
    "import codelib.portfolio_optimization.diversification as dm\n",
    "\n",
    "from codelib.statistics.moments import corr_to_cov_matrix, cov_to_corr_matrix\n",
    "\n",
    "from codelib.visualization.base import correlation_plot, fan_chart\n",
    "from codelib.visualization.layout import DefaultStyle, default_colors\n",
    "DefaultStyle();\n",
    "\n",
    "from codelib.portfolio_optimization.mean_variance import portfolio_variance"
   ]
  },
  {
   "cell_type": "markdown",
   "id": "streaming-vertex",
   "metadata": {},
   "source": [
    "# Exercises - Week 10\n"
   ]
  },
  {
   "cell_type": "markdown",
   "id": "da664997",
   "metadata": {},
   "source": [
    "## Problem 1: Variable transaction costs\n",
    "\n",
    "Consider the asset universe defined by the correlation matrix\n",
    "\n",
    "$$\n",
    "C = \\begin{pmatrix} 1.0 & 0.85 & 0.5 & 0.45 \\\\\n",
    "0.85 & 1.0 & 0.5 & 0.45 \\\\\n",
    "0.5 & 0.5 & 1.0 & 0.9 \\\\\n",
    "0.45 & 0.45 & 0.9 & 1.0 \\end{pmatrix}\n",
    "$$\n",
    "\n",
    "the expected returns $\\mu = (3.2, 3.12, 8.0, 8.2)^\\top$, and the volatilities $(5.0, 5.0, 22.0, 22.0)^\\top$\n",
    "\n",
    "Assume that the investor initially holds an equally weighted portfolio $w_i^0 = 1/4$, for $i=1,...,4$. \n",
    "\n",
    "__Question 1__\n",
    "\n",
    "We can define the mean-variance problem in terms of changes to the initial weights \n",
    "\n",
    "\\begin{align*}\n",
    "\t\\min_{\\mathbf{x}}  \\quad & (\\mathbf{w}^0 + \\mathbf{x})^\\top \\boldsymbol{\\Sigma} (\\mathbf{w}^0 + \\mathbf{x})\\\\\n",
    "\t\\textrm{s.t.} \\quad & \\mathbf{x}^\\top \\mathbf{1} = 0 \\\\\n",
    "      & (\\mathbf{w}^0 + \\mathbf{x})^\\top \\boldsymbol{\\mu} \\geq \\delta \\\\\n",
    "\\end{align*}\n",
    "\n",
    "Find the optimal $\\mathbf{x}$ using `CVXPY` with $\\delta = 0.045$\n",
    "\n",
    "__Question 2__\n",
    "\n",
    "Assume that it is not cost free to trade such that \n",
    "\n",
    "\\begin{align*}\n",
    "\t\\min_{\\mathbf{x}}  \\quad & (\\mathbf{w}^0 + \\mathbf{x})^\\top \\boldsymbol{\\Sigma} (\\mathbf{w}^0 + \\mathbf{x})\\\\\n",
    "\t\\textrm{s.t.} \\quad & \\mathbf{x}^\\top \\mathbf{1} + \\phi(\\mathbf{x})= 0 \\\\\n",
    "     & (\\mathbf{w}^0 + \\mathbf{x})^\\top \\boldsymbol{\\mu} \\geq \\delta \\\\\n",
    "\\end{align*}\n",
    "\n",
    "where $\\phi(\\mathbf{x}) = \\sum_{i=1}^N \\phi_i(x_i)$ with \n",
    "\n",
    "$$\n",
    "\\phi_i(x_i) = \\left\\{ \\begin{array}{cr} \\alpha^{+} x_i, & x_i \\geq 0 \\\\ \\alpha^- x_i, & x_i \\leq 0 \\end{array}\\right.\n",
    "$$\n",
    "\n",
    "is the variable transaction costs.  Note that we can write \n",
    "\n",
    "$$\n",
    "\\phi_i = \\alpha^{+} x_i^+ +  \\alpha^- x_i^{-}\n",
    "$$\n",
    "\n",
    "where $x_i = x_i^{+} - x_i^{-}$ with $x_i^{+}, x_i^{-} \\geq 0$. \n",
    "\n",
    "Implement the optimization with variable transaction costs when assuming $\\alpha^+, \\alpha^- = 0.01$. What is the consequence?\n",
    "\n",
    "\n",
    "### Solution \n",
    "\n",
    "__Question 1__"
   ]
  },
  {
   "cell_type": "code",
   "execution_count": 94,
   "id": "6abaed38",
   "metadata": {},
   "outputs": [],
   "source": [
    "\"\"\"\n",
    "Define inputs \n",
    "\"\"\"\n",
    "\n",
    "corr_mat = np.array([[1.0, 0.85, 0.5, 0.45],\n",
    "                     [0.85, 1.0, 0.5, 0.45],\n",
    "                     [0.5, 0.5, 1.0, 0.9],\n",
    "                     [0.45, 0.45, 0.9, 1.0]])\n",
    "\n",
    "vols = np.array([5.0, 5.0, 22.0, 22.0]) / np.sqrt(12) / 100.0\n",
    "mu = np.array([3.2, 3.12, 8.0, 8.2]) / 100.0\n",
    "\n",
    "cov_mat = corr_to_cov_matrix(corr_mat, vols)\n"
   ]
  },
  {
   "cell_type": "code",
   "execution_count": 95,
   "id": "c7fd62c0",
   "metadata": {},
   "outputs": [
    {
     "data": {
      "text/plain": [
       "array([ 0.39738186, -0.16023965, -0.21445942, -0.0226828 ])"
      ]
     },
     "execution_count": 95,
     "metadata": {},
     "output_type": "execute_result"
    }
   ],
   "source": [
    "\"\"\"\n",
    "Define and solve problem \n",
    "\"\"\"\n",
    "\n",
    "num_assets = len(mu)\n",
    "\n",
    "w0 = np.ones(num_assets) / num_assets\n",
    "delta = 0.045\n",
    "\n",
    "# define optimization variable \n",
    "x = cp.Variable(num_assets)\n",
    "\n",
    "# define constraints \n",
    "constraints = [cp.sum(x) == 0.0, (w0 + x) @ mu >= delta]\n",
    "\n",
    "# define problem \n",
    "prob = cp.Problem(cp.Minimize(cp.quad_form(x + w0, cov_mat)), constraints=constraints)\n",
    "\n",
    "# solve problem \n",
    "prob.solve()\n",
    "\n",
    "# show x.value\n",
    "x.value"
   ]
  },
  {
   "cell_type": "code",
   "execution_count": 96,
   "id": "5a6a93c6",
   "metadata": {},
   "outputs": [
    {
     "data": {
      "text/plain": [
       "array([0.64738186, 0.08976035, 0.03554058, 0.2273172 ])"
      ]
     },
     "execution_count": 96,
     "metadata": {},
     "output_type": "execute_result"
    }
   ],
   "source": [
    "# show x.value\n",
    "w0 + x.value"
   ]
  },
  {
   "cell_type": "markdown",
   "id": "ff529d75",
   "metadata": {},
   "source": [
    "__Question 2__"
   ]
  },
  {
   "cell_type": "code",
   "execution_count": 97,
   "id": "0a3792aa",
   "metadata": {},
   "outputs": [
    {
     "data": {
      "text/plain": [
       "array([ 0.25323001, -0.02672492, -0.21168337, -0.01993748])"
      ]
     },
     "execution_count": 97,
     "metadata": {},
     "output_type": "execute_result"
    }
   ],
   "source": [
    "num_assets = len(mu)\n",
    "\n",
    "w0 = np.ones(num_assets) / num_assets\n",
    "delta = 0.045\n",
    "\n",
    "# transaction costs \n",
    "alpha_pos = 0.01\n",
    "alpha_neg = 0.01\n",
    "\n",
    "# define optimization variable \n",
    "x = cp.Variable(num_assets)\n",
    "x_pos = cp.Variable(num_assets)\n",
    "x_neg = cp.Variable(num_assets)\n",
    "\n",
    "# define constraints \n",
    "constraints = [x_pos >= 0.0,\n",
    "               x_neg >= 0.0,\n",
    "               cp.sum(x + alpha_pos*x_pos + alpha_neg * x_neg)   <= 0.0,\n",
    "               x == x_pos - x_neg, \n",
    "               (w0 + x) @ mu >= delta]\n",
    "\n",
    "# define problem \n",
    "prob = cp.Problem(cp.Minimize(cp.quad_form(x + w0, cov_mat)), constraints=constraints)\n",
    "\n",
    "# solve problem \n",
    "prob.solve()\n",
    "\n",
    "# show x.value\n",
    "x.value"
   ]
  },
  {
   "cell_type": "code",
   "execution_count": 98,
   "id": "dcbe2dd9",
   "metadata": {},
   "outputs": [
    {
     "data": {
      "text/plain": [
       "array([0.50323001, 0.22327508, 0.03831663, 0.23006252])"
      ]
     },
     "execution_count": 98,
     "metadata": {},
     "output_type": "execute_result"
    }
   ],
   "source": [
    "# show allocation\n",
    "w0 + x.value"
   ]
  },
  {
   "cell_type": "markdown",
   "id": "94a98273",
   "metadata": {},
   "source": [
    "We trade less! "
   ]
  },
  {
   "cell_type": "markdown",
   "id": "7c3564d7",
   "metadata": {},
   "source": [
    "## Problem 2: Constraints on the number of uncorrelated bets \n",
    "\n",
    "Consider the asset univers: Government bonds, Investment-grade bonds, High-yield bonds, Emerging markets gov. bonds, Equities (developed markets), Equities (Emerging markets), Private equity, Infrastructure, Real Estate, and Hedgefunds. \n",
    "\n",
    "$$\n",
    "\\mathbf{R} \\sim N(\\boldsymbol{\\mu}, \\boldsymbol{\\Sigma})\n",
    "$$\n",
    "\n",
    "with correlation matrix \n",
    "\n",
    "\\begin{equation*}\n",
    "\\mathbf{C} =   \\begin{bmatrix}\n",
    "1.0 &  0.6 &  0.1 &  0.3 & -0.1 & -0.1 & -0.2 & -0.1 & -0.1 & -0.1 \\\\\n",
    "0.6 &  1.0 &  0.6 &  0.6 &  0.2 &  0.2 &  0.2 &  0.1 &  0.1 &  0.3 \\\\ \n",
    "0.1 &  0.6 &  1.0 &  0.7 &  0.7 &  0.6 &  0.6 &  0.4 &  0.3 &  0.7 \\\\\n",
    "0.3 &  0.6 &  0.7 &  1.0 &  0.5 &  0.6 &  0.4 &  0.2 &  0.2 &  0.5 \\\\\n",
    "-0.1 &  0.2 &  0.7 &  0.5 &  1.0 &  0.7 &  0.8 &  0.4 &  0.4 &  0.8 \\\\\n",
    "-0.1 &  0.2 &  0.6 &  0.6 &  0.7 &  1.0 &  0.7 &  0.4 &  0.4 &  0.7 \\\\\n",
    "-0.2 &  0.2 &  0.6 &  0.4 &  0.8 &  0.7 &  1.0 &  0.4 &  0.4 &  0.7 \\\\\n",
    "-0.1 &  0.1 &  0.4 &  0.2 &  0.4 &  0.4 &  0.4 &  1.0 &  0.3 &  0.4 \\\\\n",
    "-0.1 &  0.1 &  0.3 &  0.2 &  0.4 &  0.4 &  0.4 &  0.3 &  1.0 &  0.4 \\\\\n",
    "-0.1 &  0.3 &  0.7 &  0.5 &  0.8 &  0.7 &  0.7 &  0.4 &  0.4 &  1.0\n",
    "\\end{bmatrix},\n",
    "\\end{equation*}\n",
    "\n",
    "vector of volatilities \n",
    "\n",
    "\n",
    "\\begin{equation*}\n",
    "\\mathbf{v} =   \\begin{bmatrix}\n",
    "0.037, 0.055, 0.119, 0.107, 0.153, 0.217, 0.204, 0.14, 0.108, 0.094\n",
    "\\end{bmatrix}^\\top,\n",
    "\\end{equation*} \n",
    "\n",
    "and expected return\n",
    "\\begin{equation*}\n",
    "\\boldsymbol{\\mu} =   \\begin{bmatrix}\n",
    "0.019, 0.022, 0.049, 0.043, 0.061, 0.083, 0.102, 0.056, 0.041, 0.038\n",
    "\\end{bmatrix}^\\top \n",
    "\\end{equation*} \n",
    "\n",
    "__Question 1__\n",
    "\n",
    "Find the minimum-variance portfolio with the budget constraint $\\mathbf{w}^\\top \\mathbf{1} = 1$ and the long-only constraint $\\mathbf{w} \\geq 0$. \n",
    "\n",
    "__Question 2__\n",
    "\n",
    "A simplistic or naive view of portfolio diversification is to look at the number of constituents in the portfolios or the portfolio weights. One possibility is to use the norm of the portfolio weight vector, $\\mathbf{w}$, to determine the Effective Number of Constituents (ENC)  (valid for any $\\alpha > 0$ if weights are all positive)\n",
    "\n",
    "\\begin{equation*}\n",
    "\\text{ENC}_{\\alpha} (\\mathbf{w}) = \\Vert \\mathbf{w} \\Vert_{\\alpha}^{\\frac{\\alpha}{1 - \\alpha}} = \\left(\\sum_{i=1}^N w_i^\\alpha \\right)^{\\frac{1}{1-\\alpha}}, \\; \\; \\alpha > 0, \\; \\alpha \\neq 1\n",
    "\\end{equation*}\n",
    "\n",
    "where $N$ denote the number of assets. If $\\alpha = 2$, the diversification measure is equal to the inverse of the \\href{https://en.wikipedia.org/wiki/Herfindahl%E2%80%93Hirschman_index}{Herfindahl index}\n",
    "\n",
    "\\begin{equation*}\n",
    "\\text{ENC}_{2} (\\mathbf{w}) = \\frac{1}{\\sum_{i=1}^N w_i^2}\n",
    "\\end{equation*}\n",
    "\n",
    "In the limiting case when $\\alpha \\to 1$, we obtain the exponential of the entropy of the distribution of the portfolio weight vector\n",
    "\n",
    "\\begin{equation*}\n",
    "\\text{ENC}_{1} = \\exp \\left( - \\sum_{i=1}^N w_i \\ln w_i\\right)\n",
    "\\end{equation*}\n",
    "\n",
    "Calculate the effective number of constituents with $\\alpha=1$ and $\\alpha=2$. Note the function `codelib.portfolio_optimization.diversification.cal`\n",
    "\n",
    "__Question 3__\n",
    "\n",
    "[Meucci (2009), \"Managing Diversification\"](https://papers.ssrn.com/sol3/papers.cfm?abstract_id=1358533) defines the _effective  number of uncorrelated bets_. \n",
    "\n",
    "The method relies on the choice of $N$ uncorrelated factors whose returns can be expressed as\n",
    "\n",
    "\\begin{equation}\n",
    "    \\mathbf{R}_F = \\mathbf{A}^{-1} \\mathbf{R}\n",
    "\\end{equation}\n",
    "\n",
    "where $R$ is the vector of constituents returns and $\\mathbf{A}$ is the \"transition matrix\" that maps\n",
    "from the constituents returns to factor returns (square matrix of size $N$). $\\mathbf{A}$ is assumed\n",
    "invertible. Given the assumption of uncorrelated factors and invertible matrix, we can write the portfolio variance\n",
    "as\n",
    "\n",
    "\\begin{align}\n",
    "    \\mathbf{w}^\\top \\boldsymbol{\\Sigma} \\mathbf{w} &= \\mathbf{w}^\\top (\\mathbf{A}^\\top)^{-1}\n",
    "    \\boldsymbol{\\Sigma}_F (\\mathbf{A})^{-1} \\mathbf{w} \\\\\n",
    "    &= \\mathbf{w}^\\top_F \\boldsymbol{\\Sigma} \\mathbf{w}_F \\\\\n",
    "    &= \\sum_{i=1}^N (\\sigma_{F_i} w_{F_i})^2\n",
    "\\end{align}\n",
    "\n",
    "We can then define the i'th factors contribution to portfolio variance\n",
    "\n",
    "\n",
    "\\begin{equation}\n",
    "    p_i =\\frac{(\\sigma_{F_i} w_{F_i})^2}{\\mathbf{w}^\\top \\boldsymbol{\\Sigma} \\mathbf{w}}\n",
    "\\end{equation}\n",
    "\n",
    "which is positive and sum to one. The idea is then to calculate the effective number of uncorrelated bets using the\n",
    "norm of the factor constributions to the total variance (basically calculating Effective Number of Constituents\n",
    "using $p_i, i=1, ..., N$).\n",
    "\n",
    "Using principal components as the uncorrelated factors, we obtain the matrix of eigenvector $\\mathbf{V}$ as the \"transition matrix\" since \n",
    "\n",
    "$$\n",
    "\\mathbf{R}_{PCA} = \\mathbf{V}^{-1} \\mathbf{R}\n",
    "$$\n",
    "\n",
    "and the factor variances are known to be equal to the eigenvalues. \n",
    "\n",
    "Calculate the effective number of uncorrelated bets for the obtained minimum-variance portfolio and the equally weigthed  portfolio when using principal components as uncorrelated factors. \n",
    "\n",
    "Note that the function `codelib.portfolio_optimization.diversification.calculate_enb` is available. \n",
    "\n",
    "\n",
    "__Question 4__\n",
    "\n",
    "[Deguest, Martellini, Meucci, \"Risk Parity and Beyond—From Asset Allocation to Risk Allocation Decisions\"](https://www-pm-research-com.esc-web.lib.cbs.dk/content/iijpormgmt/early/2022/02/08/jpm20221340) suggest a minimum variance portfolio where the number of uncorrelated bets are constrained to exceed a specific number. Implement the minimum-variance portfolio with a constraint on the number of uncorrelated bets. Ensure that the $ENB(\\alpha=2)$ is larger than 8.\n",
    "\n",
    "### Solution \n",
    "\n",
    "__Question 1__"
   ]
  },
  {
   "cell_type": "code",
   "execution_count": 99,
   "id": "19e0f97b",
   "metadata": {},
   "outputs": [],
   "source": [
    "\"\"\"\n",
    "Define inputs \n",
    "\"\"\"\n",
    "\n",
    "asset_names = [\"Government bonds\", \"Investment-grade bonds\", \"High-yield bonds\",\n",
    "               \"Emerging markets gov. bonds\", \"Equities (developed markets)\",\n",
    "               \"Equities (Emerging markets)\", \"Private equity\", \"Infrastructure\",\n",
    "               \"Real Estate\", \"Hedgefunds\"]\n",
    "\n",
    "corr_mat = np.array([[1.00, 0.60, 0.10, 0.30, -0.10, -0.10, -0.20, -0.10, -0.10, -0.10],\n",
    "                     [0.60, 1.00, 0.60, 0.60, 0.20, 0.20, 0.20, 0.10, 0.10, 0.30],\n",
    "                     [0.10, 0.60, 1.00, 0.70, 0.70, 0.60, 0.60, 0.40, 0.30, 0.70],\n",
    "                     [0.30, 0.60, 0.70, 1.00, 0.50, 0.60, 0.40, 0.20, 0.20, 0.50],\n",
    "                     [-0.10, 0.20, 0.70, 0.50, 1.00, 0.70, 0.80, 0.40, 0.40, 0.80],\n",
    "                     [-0.10, 0.20, 0.60, 0.60, 0.70, 1.00, 0.70, 0.40, 0.40, 0.70],\n",
    "                     [-0.20, 0.20, 0.60, 0.40, 0.80, 0.70, 1.00, 0.40, 0.40, 0.70],\n",
    "                     [-0.10, 0.10, 0.40, 0.20, 0.40, 0.40, 0.40, 1.00, 0.30, 0.40],\n",
    "                     [-0.10, 0.10, 0.30, 0.20, 0.40, 0.40, 0.40, 0.30, 1.00, 0.40],\n",
    "                     [-0.10, 0.30, 0.70, 0.50, 0.80, 0.70, 0.70, 0.40, 0.40, 1.00]])\n",
    "\n",
    "vols = np.array([3.7, 5.5, 11.9, 10.7, 15.3, 21.7, 20.4, 14.0, 10.8, 9.4]) / 100.0\n",
    "\n",
    "cov_mat = corr_to_cov_matrix(corr_mat=corr_mat, vols=vols)\n",
    "\n",
    "mu = np.array([1.9, 2.2, 4.9, 4.3, 6.1, 8.3, 10.2, 5.6, 4.1, 3.8]) / 100\n",
    "\n",
    "# number of assets \n",
    "num_assets = len(mu)"
   ]
  },
  {
   "cell_type": "code",
   "execution_count": 100,
   "id": "5e7b231f",
   "metadata": {},
   "outputs": [
    {
     "name": "stdout",
     "output_type": "stream",
     "text": [
      "Optimization terminated successfully    (Exit mode 0)\n",
      "            Current function value: 0.0010214158103337753\n",
      "            Iterations: 34\n",
      "            Function evaluations: 34\n",
      "            Gradient evaluations: 34\n"
     ]
    }
   ],
   "source": [
    "\"\"\"\n",
    "Find minimum-variance portfolio \n",
    "\"\"\"\n",
    "\n",
    "# define common constraints \n",
    "sum_to_one_cons = {'type': 'eq',\n",
    "                   'fun' : lambda x: np.sum(x) - 1.0, \n",
    "                   'jac' : lambda x: np.ones_like(x)}\n",
    "\n",
    "no_short_cons = {'type': 'ineq',\n",
    "                 'fun' : lambda x: x,\n",
    "                 'jac' : lambda x: np.eye(len(x))}\n",
    "\n",
    "# alternatively use \n",
    "bounds = [(0.0, 1.0)] * len(mu)\n",
    "\n",
    "port_var_der = lambda w, cov_mat: 2 * w @ cov_mat\n",
    "\n",
    "\n",
    "x0 = np.ones_like(mu) / len(mu)\n",
    "res = optimize.minimize(portfolio_variance, x0=x0, args=(cov_mat,),\n",
    "                        method='SLSQP',\n",
    "                        jac=port_var_der,\n",
    "                        constraints=[sum_to_one_cons, no_short_cons],  # no_short_cons,\n",
    "                        options={'ftol': 1e-9, 'disp': True}) #, bounds=bounds)\n",
    "\n",
    "w_min_var = res.x"
   ]
  },
  {
   "cell_type": "code",
   "execution_count": 101,
   "id": "c1a6ec53",
   "metadata": {},
   "outputs": [
    {
     "data": {
      "text/plain": [
       "array([ 0.8 ,  0.  ,  0.  , -0.  , -0.  ,  0.  ,  0.  ,  0.03,  0.07,\n",
       "        0.1 ])"
      ]
     },
     "execution_count": 101,
     "metadata": {},
     "output_type": "execute_result"
    }
   ],
   "source": [
    "# We almost only allocate to government bonds!\n",
    "w_min_var.round(2)"
   ]
  },
  {
   "cell_type": "code",
   "execution_count": 102,
   "id": "931f4539",
   "metadata": {},
   "outputs": [
    {
     "data": {
      "text/plain": [
       "array([ 8.02734800e-01,  4.46488007e-17,  1.87126519e-17, -7.81642004e-18,\n",
       "       -4.49266275e-18,  1.25699689e-18,  3.72694497e-19,  3.12867574e-02,\n",
       "        6.91822254e-02,  9.67962176e-02])"
      ]
     },
     "execution_count": 102,
     "metadata": {},
     "output_type": "execute_result"
    }
   ],
   "source": [
    "w_min_var"
   ]
  },
  {
   "cell_type": "markdown",
   "id": "caeebdd3",
   "metadata": {},
   "source": [
    "__Question 2__"
   ]
  },
  {
   "cell_type": "code",
   "execution_count": 103,
   "id": "04498c52",
   "metadata": {},
   "outputs": [
    {
     "data": {
      "text/plain": [
       "0.0"
      ]
     },
     "execution_count": 103,
     "metadata": {},
     "output_type": "execute_result"
    }
   ],
   "source": [
    "dm.calculate_enc(w_min_var, alpha=1)"
   ]
  },
  {
   "cell_type": "code",
   "execution_count": 104,
   "id": "426b388d",
   "metadata": {},
   "outputs": [
    {
     "data": {
      "text/plain": [
       "1.5162595153787515"
      ]
     },
     "execution_count": 104,
     "metadata": {},
     "output_type": "execute_result"
    }
   ],
   "source": [
    "dm.calculate_enc(w_min_var, alpha=2)"
   ]
  },
  {
   "cell_type": "markdown",
   "id": "3533a96c",
   "metadata": {},
   "source": [
    "__Question 3__"
   ]
  },
  {
   "cell_type": "code",
   "execution_count": 105,
   "id": "550e2b4e",
   "metadata": {},
   "outputs": [],
   "source": [
    "eq_weights = np.ones(num_assets) / num_assets"
   ]
  },
  {
   "cell_type": "code",
   "execution_count": 106,
   "id": "1a6e6749",
   "metadata": {},
   "outputs": [],
   "source": [
    "# calculate eigenvalues and eigenvectors\n",
    "eigvals, eigvec = np.linalg.eigh(cov_mat)\n",
    "\n",
    "# sort \n",
    "idx = np.argsort(-eigvals)\n",
    "pca_mat = eigvec[:, idx]\n",
    "factor_variances = eigvals[idx]"
   ]
  },
  {
   "cell_type": "code",
   "execution_count": 107,
   "id": "19b0396f",
   "metadata": {},
   "outputs": [
    {
     "data": {
      "text/plain": [
       "(5.002971545089996,\n",
       " array([0.10401501, 0.02823357, 0.06798733, 0.13280279, 0.06837737,\n",
       "        0.01591043, 0.01491868, 0.0520781 , 0.37004699, 0.14562972]))"
      ]
     },
     "execution_count": 107,
     "metadata": {},
     "output_type": "execute_result"
    }
   ],
   "source": [
    "\"\"\"\n",
    "Minimum-variance \n",
    "\"\"\"\n",
    "\n",
    "dm.calculate_enb(w_min_var, transition_matrix=pca_mat, factor_variances=factor_variances, alpha=2)"
   ]
  },
  {
   "cell_type": "code",
   "execution_count": 108,
   "id": "16e26788",
   "metadata": {},
   "outputs": [
    {
     "data": {
      "text/plain": [
       "(1.0694641828489257,\n",
       " array([9.66799728e-01, 8.20732679e-08, 8.89513681e-03, 1.48804751e-02,\n",
       "        6.51427714e-03, 6.35375267e-04, 3.18319625e-05, 8.20989557e-04,\n",
       "        1.37645679e-03, 4.56473786e-05]))"
      ]
     },
     "execution_count": 108,
     "metadata": {},
     "output_type": "execute_result"
    }
   ],
   "source": [
    "\"\"\"\n",
    "Equal weights\n",
    "\"\"\"\n",
    "\n",
    "dm.calculate_enb(eq_weights, transition_matrix=pca_mat, factor_variances=factor_variances, alpha=2)"
   ]
  },
  {
   "cell_type": "code",
   "execution_count": 109,
   "id": "cbccbfe5",
   "metadata": {},
   "outputs": [
    {
     "data": {
      "image/png": "[encoded data removed]",
      "text/plain": [
       "<Figure size 1000x600 with 1 Axes>"
      ]
     },
     "metadata": {},
     "output_type": "display_data"
    }
   ],
   "source": [
    "fig, ax = plt.subplots(figsize=(10, 6))\n",
    "\n",
    "ax.bar(range(num_assets), pca_mat.T @ w_min_var, alpha=0.5, label=\"Minimum-variance\")\n",
    "ax.bar(range(num_assets), pca_mat.T @ eq_weights, alpha=0.5, label=\"Equally weighted\")\n",
    "ax.set_title(\"Factor weights\")\n",
    "ax.legend();"
   ]
  },
  {
   "cell_type": "code",
   "execution_count": 119,
   "id": "28306ee7",
   "metadata": {},
   "outputs": [
    {
     "data": {
      "image/png": "[encoded data removed]",
      "text/plain": [
       "<Figure size 1000x600 with 1 Axes>"
      ]
     },
     "metadata": {},
     "output_type": "display_data"
    }
   ],
   "source": [
    "fig, ax = plt.subplots(figsize=(10, 6))\n",
    "\n",
    "ax.bar(range(num_assets), dm.calculate_enb(w_min_var, transition_matrix=pca_mat,\n",
    "                                           factor_variances=factor_variances, alpha=2)[1], alpha=0.5, label=\"Minimum-variance\")\n",
    "\n",
    "ax.bar(range(num_assets), dm.calculate_enb(eq_weights, transition_matrix=pca_mat,\n",
    "                                           factor_variances=factor_variances, alpha=2)[1], alpha=0.5, label=\"Equally weighted\")\n",
    "ax.set_title(\"Factor risk contribution\")\n",
    "ax.legend();"
   ]
  },
  {
   "cell_type": "markdown",
   "id": "ee0d1217",
   "metadata": {},
   "source": [
    "__Question 4__"
   ]
  },
  {
   "cell_type": "code",
   "execution_count": 115,
   "id": "99f1789e",
   "metadata": {},
   "outputs": [
    {
     "name": "stdout",
     "output_type": "stream",
     "text": [
      "Optimization terminated successfully    (Exit mode 0)\n",
      "            Current function value: 0.001299998265312994\n",
      "            Iterations: 90\n",
      "            Function evaluations: 1023\n",
      "            Gradient evaluations: 90\n"
     ]
    }
   ],
   "source": [
    "\"\"\"\n",
    "Find minimum-variance portfolio \n",
    "\"\"\"\n",
    "\n",
    "enb_target = 8.0\n",
    "\n",
    "# define common constraints \n",
    "sum_to_one_cons = {'type': 'eq',\n",
    "                   'fun' : lambda x: np.sum(x) - 1.0}\n",
    "\n",
    "no_short_cons = {'type': 'ineq',\n",
    "                 'fun' : lambda x: x}\n",
    "\n",
    "number_of_bets = {'type': 'ineq',\n",
    "                 'fun' : lambda x: dm.calculate_enb(x, pca_mat, factor_variances=factor_variances, alpha=2)[0] - enb_target}\n",
    "\n",
    "# alternatively use \n",
    "bounds = [(0.0, 1.0)] * len(mu)\n",
    "\n",
    "\n",
    "x0 = np.ones_like(mu) / len(mu)\n",
    "res = optimize.minimize(portfolio_variance, x0=x0, args=(cov_mat,),\n",
    "                        method='SLSQP',\n",
    "                        constraints=[sum_to_one_cons, number_of_bets],  # no_short_cons,\n",
    "                        options={'ftol': 1e-10, 'disp': True} , bounds=bounds)\n",
    "\n",
    "w_min_var_enb = res.x"
   ]
  },
  {
   "cell_type": "code",
   "execution_count": 116,
   "id": "d0180f36",
   "metadata": {},
   "outputs": [
    {
     "data": {
      "text/plain": [
       "array([0.73, 0.  , 0.  , 0.12, 0.  , 0.  , 0.  , 0.03, 0.11, 0.01])"
      ]
     },
     "execution_count": 116,
     "metadata": {},
     "output_type": "execute_result"
    }
   ],
   "source": [
    "w_min_var_enb.round(2)"
   ]
  },
  {
   "cell_type": "code",
   "execution_count": 117,
   "id": "c151cde0",
   "metadata": {},
   "outputs": [
    {
     "data": {
      "text/plain": [
       "array([ 0.8 ,  0.  ,  0.  , -0.  , -0.  ,  0.  ,  0.  ,  0.03,  0.07,\n",
       "        0.1 ])"
      ]
     },
     "execution_count": 117,
     "metadata": {},
     "output_type": "execute_result"
    }
   ],
   "source": [
    "w_min_var.round(2)"
   ]
  },
  {
   "cell_type": "code",
   "execution_count": 118,
   "id": "bd27606c",
   "metadata": {},
   "outputs": [
    {
     "data": {
      "text/plain": [
       "(7.999999999999929,\n",
       " array([0.13883027, 0.08190363, 0.08955096, 0.13659538, 0.11194516,\n",
       "        0.05669121, 0.06439373, 0.0179762 , 0.20801592, 0.09409755]))"
      ]
     },
     "execution_count": 118,
     "metadata": {},
     "output_type": "execute_result"
    }
   ],
   "source": [
    "dm.calculate_enb(w_min_var_enb, transition_matrix=pca_mat, factor_variances=factor_variances, alpha=2)"
   ]
  },
  {
   "cell_type": "markdown",
   "id": "limiting-disposal",
   "metadata": {},
   "source": [
    "# References\n",
    "\n",
    "## Articles\n",
    "\n",
    "[Meucci (2009), \"Managing Diversification\"](https://papers.ssrn.com/sol3/papers.cfm?abstract_id=1358533)\n",
    "\n",
    "[Deguest, Martellini, Meucci, \"Risk Parity and Beyond—From Asset Allocation to Risk Allocation Decisions\"](https://www-pm-research-com.esc-web.lib.cbs.dk/content/iijpormgmt/early/2022/02/08/jpm20221340)\n"
   ]
  }
 ],
 "metadata": {
  "kernelspec": {
   "display_name": "Python 3 (ipykernel)",
   "language": "python",
   "name": "python3"
  },
  "language_info": {
   "codemirror_mode": {
    "name": "ipython",
    "version": 3
   },
   "file_extension": ".py",
   "mimetype": "text/x-python",
   "name": "python",
   "nbconvert_exporter": "python",
   "pygments_lexer": "ipython3",
   "version": "3.11.4"
  }
 },
 "nbformat": 4,
 "nbformat_minor": 5
}
