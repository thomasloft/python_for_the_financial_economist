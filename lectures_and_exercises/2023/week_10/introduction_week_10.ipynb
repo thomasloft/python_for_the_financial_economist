{
 "cells": [
  {
   "cell_type": "markdown",
   "id": "sustainable-funds",
   "metadata": {},
   "source": [
    "# Week 10: Portfolio heuristics and risk based strategies\n",
    "\n",
    "\n",
    "In this week, we will look at some heuristic approaches to portfolio optimization. "
   ]
  },
  {
   "cell_type": "markdown",
   "id": "ahead-rebound",
   "metadata": {},
   "source": [
    "## Lectures and exercises\n",
    "\n",
    "The **lectures** cover\n",
    "\n",
    "* Risk based strategies \n",
    "* Portfolio heuristics\n",
    "\n",
    "The **exercises** cover\n",
    "\n",
    "* Implementation of variable transaction costs\n",
    "* Effective number of uncorrelated bets"
   ]
  }
 ],
 "metadata": {
  "kernelspec": {
   "display_name": "Python 3 (ipykernel)",
   "language": "python",
   "name": "python3"
  },
  "language_info": {
   "codemirror_mode": {
    "name": "ipython",
    "version": 3
   },
   "file_extension": ".py",
   "mimetype": "text/x-python",
   "name": "python",
   "nbconvert_exporter": "python",
   "pygments_lexer": "ipython3",
   "version": "3.11.4"
  }
 },
 "nbformat": 4,
 "nbformat_minor": 5
}
