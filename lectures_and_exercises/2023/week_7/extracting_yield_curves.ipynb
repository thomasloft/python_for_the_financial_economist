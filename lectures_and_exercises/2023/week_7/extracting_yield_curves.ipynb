{
 "cells": [
  {
   "cell_type": "code",
   "execution_count": 1,
   "id": "personal-retention",
   "metadata": {},
<<<<<<< Updated upstream
   "outputs": [],
=======
   "outputs": [
    {
     "ename": "ModuleNotFoundError",
     "evalue": "No module named 'autograd'",
     "output_type": "error",
     "traceback": [
      "\u001B[1;31m---------------------------------------------------------------------------\u001B[0m",
      "\u001B[1;31mModuleNotFoundError\u001B[0m                       Traceback (most recent call last)",
      "Cell \u001B[1;32mIn[1], line 31\u001B[0m\n\u001B[0;32m     27\u001B[0m \u001B[38;5;28;01mfrom\u001B[39;00m \u001B[38;5;21;01mscipy\u001B[39;00m\u001B[38;5;21;01m.\u001B[39;00m\u001B[38;5;21;01moptimize\u001B[39;00m \u001B[38;5;28;01mimport\u001B[39;00m minimize\n\u001B[0;32m     28\u001B[0m \u001B[38;5;28;01mfrom\u001B[39;00m \u001B[38;5;21;01mfunctools\u001B[39;00m \u001B[38;5;28;01mimport\u001B[39;00m reduce\n\u001B[1;32m---> 31\u001B[0m \u001B[38;5;28;01mimport\u001B[39;00m \u001B[38;5;21;01mautograd\u001B[39;00m\n\u001B[0;32m     32\u001B[0m \u001B[38;5;28;01mfrom\u001B[39;00m \u001B[38;5;21;01mstatsmodels\u001B[39;00m\u001B[38;5;21;01m.\u001B[39;00m\u001B[38;5;21;01mtools\u001B[39;00m\u001B[38;5;21;01m.\u001B[39;00m\u001B[38;5;21;01mnumdiff\u001B[39;00m \u001B[38;5;28;01mimport\u001B[39;00m approx_fprime, approx_hess\n\u001B[0;32m     34\u001B[0m \u001B[38;5;28;01mfrom\u001B[39;00m \u001B[38;5;21;01mtyping\u001B[39;00m \u001B[38;5;28;01mimport\u001B[39;00m Union, List\n",
      "\u001B[1;31mModuleNotFoundError\u001B[0m: No module named 'autograd'"
     ]
    }
   ],
>>>>>>> Stashed changes
   "source": [
    "import sys\n",
    "sys.path.insert(0,'C:\\\\code\\\\python_for_the_financial_economist\\\\')\n",
    "\n",
    "\"\"\"\n",
    "Magic commands\n",
    "\"\"\"\n",
    "\n",
    "%load_ext autoreload\n",
    "%autoreload 2\n",
    "\n",
    "# animations, etc. requires below magic command\n",
    "# %matplotlib notebook\n",
    "\n",
    "\n",
    "\"\"\"\n",
    "Load relevant packages\n",
    "\"\"\"\n",
    "\n",
    "import numpy as np\n",
    "\n",
    "import matplotlib.pyplot as plt\n",
    "from matplotlib.patches import Polygon\n",
    "from matplotlib import animation, cm\n",
    "\n",
    "from scipy import stats\n",
    "from scipy import optimize\n",
    "from scipy.optimize import minimize\n",
    "from functools import reduce\n",
    "\n",
    "\n",
    "import autograd\n",
    "from statsmodels.tools.numdiff import approx_fprime, approx_hess\n",
    "\n",
    "from typing import Union, List\n",
    "\n",
    "\"\"\"\n",
    "Own packages\n",
    "\"\"\"\n",
    "\n",
    "from codelib.visualization.layout import DefaultStyle\n",
    "DefaultStyle();"
   ]
  },
  {
   "cell_type": "markdown",
   "id": "introductory-lawrence",
   "metadata": {},
   "source": [
    "# Introduction to fixed income modelling \n",
    "\n",
    "__Note__: For further details the reader is referred to [Claus Munk (2013), \"Fixed income modelling\"](https://www.amazon.co.uk/Fixed-Income-Modelling-Claus-Munk/dp/0198716443)\n",
    "\n",
    "The term [_fixed income_](https://www.investopedia.com/terms/f/fixedincome.asp) refers to assets and securities that pay out a set level of cash flows to investors, typically in the form of fixed interest or dividends. The simplest fixed income instruments are bonds that we can think of as a tradable loan agreement. \n",
    "\n",
    "We will in this lecture note introduce some terminology and see how we can extract yield curves from observed bond prices. The yield captures the infomation we need to price the fixed income instruments.   \n",
    "\n",
    "## Some terminology \n",
    "\n",
    "### Bond types\n",
    "\n",
    "__Zero-coupon bond - the fundamental building-block__\n",
    "\n",
    "A zero coupon bond is the simplest type of bond. A zero coupon bond at time $t$ promises a single payment (we assume 1 if not otherwise stated) at time $T \\geq t$ and has the price $B_t^T$. Note that $B_t^t = 1$. The zero coupon bond represents the market discount factor for a sure time $T$ payment. \n",
    "\n",
    "__Coupon bonds__\n",
    "\n",
    "A _coupon bond_ has multiple payments $Y_i, \\; i = 1, ...,n$ for different payments dates $T_i = T_1, ..., T_n$. We can think of a coupon bond as a portfolio of zero coupon bonds. Thus, if we can obtain the zero coupon term structure, we can price any coupon bond (or fixed cash flow). The price of a bond can be written as\n",
    "\n",
    "$$\n",
    "B_t = \\sum_{T_i > t} Y_i B_t^{T_i}\n",
    "$$\n",
    "\n",
    "Typically, coupon bonds have fixed payment intervals, e.g. $\\delta \\in  [0.25, 0.5, 1.0]$ corresponding to quarterly, semi-annually, and yearly. The size of payments is determined by the face value, coupon rate and amortization principle.  The coupon rate $R$ is typically qouted annually such that the periodic coupon rate is $\\delta R$. \n",
    "\n",
    "Three examples of coupon bonds are\n",
    "\n",
    "* Bullet bonds\n",
    "* Annuity bonds\n",
    "* Serial bonds\n",
    "\n",
    "_Bullet bonds_ pays the periodic coupon rate times the face value for all payment dates expect for the last payment where the face value also is repaid. E.g a 5-year bullet bond with coupon rate $R$ and face value of $1$: \n",
    "\n",
    "$$\n",
    "Y_i = \\left \\{ \\begin{array}{ll} R, & i = 1, ..., 4\\\\ 1 + R, & i=5 \\end{array} \\right. \n",
    "$$\n",
    "\n",
    "_Annuity bonds_ have equal payments for all payments dates. Each payment is composed of an interest payment and a principle repayment. A $n$-year annuity with annual payments will have the payments\n",
    "\n",
    "$$\n",
    "Y_i = Y = \\frac{R}{1 - (1+R)^{-n}}\n",
    "$$\n",
    "\n",
    "_Serial bonds_ pays the face value back in equal installments. A $n$ year bond with annual payments \n",
    "\n",
    "$$\n",
    "Y_i = \\frac{1}{n} + R\n",
    "\\left[1 - \\frac{i-1}{n}\\right]\n",
    "$$\n",
    "\n",
    "\n",
    "### Yields and zero-coupon rates\n",
    "\n",
    "The _yield_ of a bond, $\\hat{y}_t^B$ (annually compounded) or $y_t^B$ (continuous compounding),  is the discount rate for which the present value of the future payments discounted at that rate is equal to the current price of the bond. The annually compounded yield\n",
    "\n",
    "$$\n",
    "B_t = \\sum_{T_i > t} Y_i \\left(1 +  \\hat{y}_t^B\\right)^{-(T_i - t)}\n",
    "$$\n",
    "\n",
    "and the continuous compounded yield \n",
    "\n",
    "$$\n",
    "B_t = \\sum_{T_i > t} Y_i e^{-y_t^B (T_i - t)}\n",
    "$$\n",
    "\n",
    "\n",
    "We will often be interested in the zero-coupon yields that convey the same information as the discount factor and thereby usefull for pricing other fixed income sercurites. Again, the _annually compounded_ zero-coupon yield is \n",
    "$$\n",
    "B_t^T =  \\left(1 +  \\hat{y}_t^T\\right)^{-(T - t)}\n",
    "$$\n",
    "Solving for the yield gives us \n",
    "\n",
    "$$\n",
    "\\hat{y}_t^T = \\left(B_t^T \\right)^{- \\frac{1}{T-t}} - 1\n",
    "$$\n",
    "\n",
    "For the case with _continuous compounding_ we have \n",
    "$$\n",
    "B_t^T = e^{-y_t^T (T - t)}\n",
    "$$\n",
    "and the corresponding zero-coupon yield \n",
    "$$\n",
    "y_t^T = - \\frac{1}{T-t}\\ln B_t^T\n",
    "$$\n",
    "\n",
    "Our goal will be to find a zero-coupon yield curve such that we can price a range of fixed income instruments. \n",
    "\n",
    "### Forward rates\n",
    "\n",
    "The _forward rate_ reflects the price on a loan between two future dates. The _annually compounded_ forward rate between time $T$ and $S$ is given by \n",
    "\n",
    "$$\n",
    "\\hat{f}_t^{T,S} = \\left(\\frac{B_t^T}{B_t^S} \\right)^{1/(S-T)} - 1\n",
    "$$\n",
    "\n",
    "such that \n",
    "\n",
    "$$\n",
    "\\left(1 +  \\hat{y}_t^S\\right)^{-(S-t)} = \\left(1 + \\hat{y}_t^T \\right)^{-(T-t)} \\left(1 + \\hat{f}_t^{T,S}  \\right)^{-(S-T)}\n",
    "$$\n",
    "\n",
    "Similarly, with _continuous compounding_ we have \n",
    "\n",
    "$$\n",
    "f_t^{T,S} = - \\frac{\\ln B_t^S - \\ln B_t^T}{S-T}\n",
    "$$\n",
    "\n",
    "such that \n",
    "\n",
    "$$\n",
    "B_t^S = B_t^T e^{-f_t^{T,S}(S-T)}\n",
    "$$\n",
    "\n",
    "We obtain the instantaneous forward rate as the limit when $S \\to T$\n",
    "\n",
    "$$\n",
    "f_t^T = \\frac{\\partial \\ln B_t^T}{\\partial T} = - \\frac{\\partial B_t^T}{\\partial T} \\frac{1}{B_t^T}\n",
    "$$\n",
    "\n",
    "The zero-coupon yield is related to the instantaneous forward rates as follows\n",
    "\n",
    "$$\n",
    "y_t^T = \\frac{1}{T-t}\\intop_t^T f_t^u du\n",
    "$$\n",
    "\n",
    "such that \n",
    "\n",
    "$$\n",
    "B_t^T = e^{-\\intop_t^T f_t^u du}\n",
    "$$"
   ]
  },
  {
   "cell_type": "markdown",
   "id": "distinct-youth",
   "metadata": {},
   "source": [
    "## Extracting yield curves from bond prices\n",
    "\n",
    "\n",
    "### Bootstrapping\n",
    "\n",
    "Boostrapping is the simplest way of obtaining zero-coupon yields. If we observe coupon bonds then we will be able to back-out the implicit zero-coupon yields consistent with the observed market prices. Assume that we have the two bonds and we are standing at time $t=0$\n",
    "\n",
    "\n",
    "| | Cash Flow, $t=1$| Cash Flow, $t=2$| Price  |\n",
    "|:----------|||----------|\n",
    "| Bond 1    | 110|   | 100.0  |\n",
    "| Bond 2    |5 | 105    | 90.0  |\n",
    "\n",
    "\n",
    "Then clearly, the discount factor (the price of a zero-coupon bond) maturing at time $t=1$ is \n",
    "\n",
    "\n",
    "$$\n",
    "100 = 110 B_0^1 \\Rightarrow B_0^1 = \\frac{1}{110} 100 \n",
    "$$\n",
    "\n",
    "and \n",
    "\n",
    "$$\n",
    "90 = 5 B_0^1 + 105 B_0^2 = 5 \\frac{1}{110} 100 + 105 B_0^2  \\Rightarrow B_0^2 = \\frac{1}{105} 90 +  \\frac{5}{105}  \\frac{1}{110} 100\n",
    "$$"
   ]
  },
  {
   "cell_type": "code",
   "execution_count": 10,
   "id": "protecting-france",
   "metadata": {},
   "outputs": [
    {
     "data": {
      "text/plain": [
       "array([0.90909091, 0.81385281])"
      ]
     },
     "execution_count": 10,
     "metadata": {},
     "output_type": "execute_result"
    }
   ],
   "source": [
    "cf_matrix = np.array([[110.0, 0.0],\n",
    "                      [5.0, 105.0]])\n",
    "price_vector = np.array([100.0, 90.0])\n",
    "\n",
    "# discount factors\n",
    "discount_factors = np.linalg.inv(cf_matrix) @ price_vector\n",
    "discount_factors"
   ]
  },
  {
   "cell_type": "code",
   "execution_count": 11,
   "id": "stuck-partition",
   "metadata": {},
   "outputs": [
    {
     "data": {
      "text/plain": [
       "array([0.09531018, 0.10298787])"
      ]
     },
     "execution_count": 11,
     "metadata": {},
     "output_type": "execute_result"
    }
   ],
   "source": [
    "# zero yields\n",
    "zero_yields = -np.log(discount_factors)/np.array([1.0, 2.0])\n",
    "zero_yields"
   ]
  },
  {
   "cell_type": "markdown",
   "id": "found-milton",
   "metadata": {},
   "source": [
    "The example above shows us that we basically need to solve a system of equations \n",
    "\n",
    "$$\n",
    "\\mathbf{B}_t = \\begin{bmatrix} B_{1,t} \\\\ B_{2, t} \\\\  \\vdots \\\\ B_{M, t} \\end{bmatrix}  = \n",
    "\\begin{bmatrix} Y_{1,1} & Y_{1,2} & \\dots & Y_{1, N} \\\\ \n",
    "Y_{2, 1} & Y_{2,2} & \\dots & Y_{2, N}\\\\  \n",
    "\\vdots & \\vdots & \\ddots & \\vdots \\\\\n",
    "Y_{M, 1} & Y_{M, 2} & \\dots & Y_{M, N}  \\end{bmatrix} \n",
    "\\begin{bmatrix} B_{t}^{T_1} \\\\ B_t^{T_2} \\\\  \\vdots \\\\ B_t^{T_N} \\end{bmatrix} = \\mathbf{C}_t  \\mathbf{Z}_t\n",
    "$$\n",
    "\n",
    "where we have $M$ different bonds with $N$ different payment dates - note that some payments may be zero. Given the cash flows and observed bond prices, we can solve for an unique discount vector $\\mathbf{Z}_t$\n",
    "\n",
    "$$\n",
    "Z_t = \\mathbf{C}_t^{-1} \\mathbf{B}_t\n",
    "$$\n",
    "\n",
    "if the cash flow matrix $\\mathbf{C}_t$ is invertible (non-singular). If $M>N$ the system of equations may not have any solutions and if $M<N$ then we may have multiple solutions. \n",
    "\n",
    "\n",
    "__Example__\n",
    "\n",
    "__Note__: Example is adapted from _Exercise 2.2_ in [Claus Munk (2013), \"Fixed income modelling\"](https://www.amazon.co.uk/Fixed-Income-Modelling-Claus-Munk/dp/0198716443)\n",
    "\n",
    "Consider a bond market in which 10 bullet bonds are traded. They all have face value of 100, a coupon rate of 5\\%, annual payments and exactly one year to the next payment. The bonds mature in 1, 2, ...,  10 years:\n",
    "\n",
    "| Maturity  |  Price   |\n",
    "|:----------|----------|\n",
    "| 1         | 101.942  |\n",
    "| 2         | 103.290  |\n",
    "| 3         | 104.118  |\n",
    "| 4         | 104.460  |\n",
    "| 5         | 104.355  |\n",
    "| 6         | 104.256  |\n",
    "| 7         | 104.552  |\n",
    "| 8         | 105.210  |\n",
    "| 9         | 105.482  |\n",
    "| 10        | 105.399  |\n",
    "\n",
    "\n",
    "Perform the following calculations: \n",
    "\n",
    "* Find the discount factors\n",
    "* Find the corresponding zero yields (qouted annually)"
   ]
  },
  {
   "cell_type": "code",
   "execution_count": 12,
   "id": "prompt-valuation",
   "metadata": {},
   "outputs": [
    {
     "data": {
      "text/plain": [
       "'\\nSimple way of creating cash flow matrix\\n\\nThe above method is somewhat more general\\n\\n'"
      ]
     },
     "execution_count": 12,
     "metadata": {},
     "output_type": "execute_result"
    }
   ],
   "source": [
    "\"\"\"\n",
    "Define price vector \n",
    "\"\"\"\n",
    "\n",
    "prices = np.array([101.942, 103.290, 104.118, 104.460, 104.355,\n",
    "                   104.256, 104.552, 105.210, 105.482, 105.399])\n",
    "\n",
    "\"\"\"\n",
    "Create relevant cash flow matrix\n",
    "\"\"\"\n",
    "\n",
    "maturities = np.arange(1.0, 11.0, 1.0)\n",
    "\n",
    "term_info = list()\n",
    "flow_info = list()\n",
    "for maturity in maturities: \n",
    "    \n",
    "    terms = np.arange(1.0, maturity + 1.0, 1.0)\n",
    "    flows = np.ones_like(terms) * 5 \n",
    "    flows[-1] += 100\n",
    "    \n",
    "    term_info.append(terms)\n",
    "    flow_info.append(flows)\n",
    "\n",
    "all_terms = reduce(np.union1d, term_info)\n",
    "\n",
    "cash_flow_matrix = np.zeros((maturities.shape[0] , all_terms.shape[0]))\n",
    "\n",
    "idx = 0\n",
    "for terms, flows in zip(term_info, flow_info):\n",
    "    \n",
    "    indicator = np.in1d(all_terms, terms)\n",
    "\n",
    "    cash_flow_matrix[idx, indicator] = flows\n",
    "    \n",
    "    idx += 1\n",
    "    \n",
    "\"\"\"\n",
    "Simple way of creating cash flow matrix\n",
    "\n",
    "The above method is somewhat more general\n",
    "\n",
    "\"\"\"\n",
    "\n",
    "# cash_flow_matrix = np.tri(10) * 5 + np.eye(10) * 100"
   ]
  },
  {
   "cell_type": "code",
   "execution_count": 13,
   "id": "numerical-sending",
   "metadata": {},
   "outputs": [
    {
     "data": {
      "text/plain": [
       "array([[105.,   0.,   0.,   0.,   0.,   0.,   0.,   0.,   0.,   0.],\n",
       "       [  5., 105.,   0.,   0.,   0.,   0.,   0.,   0.,   0.,   0.],\n",
       "       [  5.,   5., 105.,   0.,   0.,   0.,   0.,   0.,   0.,   0.],\n",
       "       [  5.,   5.,   5., 105.,   0.,   0.,   0.,   0.,   0.,   0.],\n",
       "       [  5.,   5.,   5.,   5., 105.,   0.,   0.,   0.,   0.,   0.],\n",
       "       [  5.,   5.,   5.,   5.,   5., 105.,   0.,   0.,   0.,   0.],\n",
       "       [  5.,   5.,   5.,   5.,   5.,   5., 105.,   0.,   0.,   0.],\n",
       "       [  5.,   5.,   5.,   5.,   5.,   5.,   5., 105.,   0.,   0.],\n",
       "       [  5.,   5.,   5.,   5.,   5.,   5.,   5.,   5., 105.,   0.],\n",
       "       [  5.,   5.,   5.,   5.,   5.,   5.,   5.,   5.,   5., 105.]])"
      ]
     },
     "execution_count": 13,
     "metadata": {},
     "output_type": "execute_result"
    }
   ],
   "source": [
    "cash_flow_matrix"
   ]
  },
  {
   "cell_type": "code",
   "execution_count": 14,
   "id": "bacterial-dutch",
   "metadata": {},
   "outputs": [
    {
     "data": {
      "text/plain": [
       "array([0.97087619, 0.93748209, 0.9007258 , 0.86109123, 0.81908689,\n",
       "       0.7791399 , 0.74485704, 0.71565433, 0.68416603, 0.65079621])"
      ]
     },
     "execution_count": 14,
     "metadata": {},
     "output_type": "execute_result"
    }
   ],
   "source": [
    "\"\"\"\n",
    "Calculate discount factors \n",
    "\"\"\"\n",
    "\n",
    "discount_factors = np.linalg.inv(cash_flow_matrix) @ prices\n",
    "discount_factors"
   ]
  },
  {
   "cell_type": "code",
   "execution_count": 15,
   "id": "green-command",
   "metadata": {},
   "outputs": [
    {
     "data": {
      "text/plain": [
       "array([101.942, 103.29 , 104.118, 104.46 , 104.355, 104.256, 104.552,\n",
       "       105.21 , 105.482, 105.399])"
      ]
     },
     "execution_count": 15,
     "metadata": {},
     "output_type": "execute_result"
    }
   ],
   "source": [
    "cash_flow_matrix @ discount_factors"
   ]
  },
  {
   "cell_type": "code",
   "execution_count": 16,
   "id": "african-remainder",
   "metadata": {},
   "outputs": [
    {
     "data": {
      "image/png": "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\n",
      "text/plain": [
       "<Figure size 864x432 with 1 Axes>"
      ]
     },
     "metadata": {
      "needs_background": "light"
     },
     "output_type": "display_data"
    }
   ],
   "source": [
    "\"\"\"\n",
    "Calculate zero yields\n",
    "\"\"\"\n",
    "\n",
    "zero_yields_boot = discount_factors**(-1 / maturities) - 1\n",
    "\n",
    "fig, ax = plt.subplots(figsize=(12,6)) \n",
    "plt.plot(maturities, zero_yields_boot, marker='o');\n",
    "plt.xlabel('Tenor');\n",
    "plt.ylabel('Zero yields');"
   ]
  },
  {
   "cell_type": "markdown",
   "id": "burning-logic",
   "metadata": {},
   "source": [
    "Assume now that we drop the bond with maturity in 5 years. Will it still be possible to use the above procedure? "
   ]
  },
  {
   "cell_type": "code",
   "execution_count": 17,
   "id": "later-wealth",
   "metadata": {},
   "outputs": [],
   "source": [
    "\"\"\"\n",
    "Define price vector \n",
    "\"\"\"\n",
    "\n",
    "prices = np.array([101.942, 103.290, 104.118, 104.460,\n",
    "                   104.256, 104.552, 105.210, 105.482, 105.399])\n",
    "\n",
    "\"\"\"\n",
    "Create relevant cash flow matrix\n",
    "\"\"\"\n",
    "\n",
    "maturities = np.concatenate((np.arange(1.0, 5.0, 1.0), np.arange(6.0, 11.0, 1.0)))\n",
    "\n",
    "term_info = list()\n",
    "flow_info = list()\n",
    "for maturity in maturities: \n",
    "    \n",
    "    terms = np.arange(1.0, maturity + 1.0, 1.0)\n",
    "    flows = np.ones_like(terms) * 5 \n",
    "    flows[-1] += 100\n",
    "    \n",
    "    term_info.append(terms)\n",
    "    flow_info.append(flows)\n",
    "\n",
    "all_terms = reduce(np.union1d, term_info)\n",
    "\n",
    "cash_flow_matrix = np.zeros((maturities.shape[0] , all_terms.shape[0]))\n",
    "\n",
    "idx = 0\n",
    "for terms, flows in zip(term_info, flow_info):\n",
    "    \n",
    "    indicator = np.in1d(all_terms, terms)\n",
    "\n",
    "    cash_flow_matrix[idx, indicator] = flows\n",
    "    \n",
    "    idx += 1"
   ]
  },
  {
   "cell_type": "code",
   "execution_count": 18,
   "id": "opposed-assembly",
   "metadata": {},
   "outputs": [
    {
     "data": {
      "text/plain": [
       "array([[105.,   0.,   0.,   0.,   0.,   0.,   0.,   0.,   0.,   0.],\n",
       "       [  5., 105.,   0.,   0.,   0.,   0.,   0.,   0.,   0.,   0.],\n",
       "       [  5.,   5., 105.,   0.,   0.,   0.,   0.,   0.,   0.,   0.],\n",
       "       [  5.,   5.,   5., 105.,   0.,   0.,   0.,   0.,   0.,   0.],\n",
       "       [  5.,   5.,   5.,   5.,   5., 105.,   0.,   0.,   0.,   0.],\n",
       "       [  5.,   5.,   5.,   5.,   5.,   5., 105.,   0.,   0.,   0.],\n",
       "       [  5.,   5.,   5.,   5.,   5.,   5.,   5., 105.,   0.,   0.],\n",
       "       [  5.,   5.,   5.,   5.,   5.,   5.,   5.,   5., 105.,   0.],\n",
       "       [  5.,   5.,   5.,   5.,   5.,   5.,   5.,   5.,   5., 105.]])"
      ]
     },
     "execution_count": 18,
     "metadata": {},
     "output_type": "execute_result"
    }
   ],
   "source": [
    "cash_flow_matrix"
   ]
  },
  {
   "cell_type": "code",
   "execution_count": 19,
   "id": "second-criminal",
   "metadata": {},
   "outputs": [
    {
     "data": {
      "text/plain": [
       "(9, 10)"
      ]
     },
     "execution_count": 19,
     "metadata": {},
     "output_type": "execute_result"
    }
   ],
   "source": [
    "cash_flow_matrix.shape"
   ]
  },
  {
   "cell_type": "code",
   "execution_count": 20,
   "id": "tender-pharmacy",
   "metadata": {},
   "outputs": [
    {
     "data": {
      "text/plain": [
       "9"
      ]
     },
     "execution_count": 20,
     "metadata": {},
     "output_type": "execute_result"
    }
   ],
   "source": [
    "#  the rank cannot be larger than the num. of cols or rows\n",
    "np.linalg.matrix_rank(cash_flow_matrix)"
   ]
  },
  {
   "cell_type": "markdown",
   "id": "controversial-prison",
   "metadata": {},
   "source": [
    "NO, the cash flow matrix is no longer invertible and we cannot apply the above methodology! We will get an error if we try to evaluate the code `np.linalg.inv(cash_flow_matrix)`. "
   ]
  },
  {
   "cell_type": "markdown",
   "id": "expanded-stopping",
   "metadata": {},
   "source": [
    "### Alternatives to bootstrapping: Splines\n",
    "\n",
    "Bootstrapping can only give us the discount factors for the payment dates, but it may be valuable to know the discount factors for any given day in the future. There is a large literature on how to estimate the entire term structure of interest rates, think of it as a function $T \\to B_t^T$, up to some large $T$. To simplify notation we will define \n",
    "\n",
    "$$\n",
    "B(\\tau) = B_t^{t + \\tau}, \\; \\; \\tau \\in [0, \\infty)\n",
    "$$\n",
    "\n",
    "representing the time $t$ discount function. The objective is to specify some functional form for $B(\\tau)$ such that we get as close as possible to observed bond prices. \n",
    "\n",
    "The first example we will look at involves representing the discount function using splines. [Claus Munk (2013), \"Fixed income modelling\"](https://www.amazon.co.uk/Fixed-Income-Modelling-Claus-Munk/dp/0198716443) presents a method inspired by [McCulloch (1975)](https://www.jstor.org/stable/2326860), among others. \n",
    "\n",
    "The basic idea is to divide the time to maturity into $k$ subintervals $0 = \\tau_0 < \\tau_1 < \\dots < \\tau_k$ and define the discount function as \n",
    "\n",
    "$$\n",
    "B(\\tau) = \\sum_{j=1}^{k-1} G_j(\\tau)I_j(\\tau)\n",
    "$$\n",
    "where $G_j(\\cdot)$ are the basis functions and $I_j(\\cdot)$ is a step function \n",
    "\n",
    "$$\n",
    "I_j(\\tau) = \\left \\{ \\begin{array}{ll} 1, & \\tau \\geq \\tau_j \\\\ 0, & \\text{otherwise.}\\end{array} \\right.\n",
    "$$\n",
    "\n",
    "To ensure nice properties of the discount function, we will require the basis functions being continuous and differentiable. One example is the cubic spline where the basis functions are specified as third degree polynomials\n",
    "\n",
    "$$\n",
    "G_j(\\tau) = \\alpha_j + \\beta_j (\\tau - \\tau_j) + \\gamma_j (\\tau - \\tau_j)^2 + \\delta_j (\\tau - \\tau_j)^3\n",
    "$$\n",
    "\n",
    "where $\\alpha_j , \\beta_j , \\gamma_j , \\delta_j$ are constants. \n",
    "\n",
    "To obtain a reasonable discount function, we need to impose a number of constraints on the cubic splines, e.g. for $\\tau < \\tau_1$ we have\n",
    "\n",
    "$$\n",
    "B(\\tau) = \\alpha_0 + \\beta_0 \\tau + \\gamma_0\\tau^2 + \\delta_0 \\tau^3\n",
    "$$\n",
    "\n",
    "ensuring $B(0) =1$ requires $\\alpha_0 = 1$. After imposing all constraints, we will have\n",
    "\n",
    "$$\n",
    "B(\\tau) = 1 + \\beta_0 \\tau + \\gamma_0\\tau^2 + \\delta_0 \\tau^3 + \\sum_{j=1}^{k-1} \\delta_j (\\tau - \\tau_j)^3 I_j(\\tau)\n",
    "$$\n",
    "\n",
    "Given this specification of the discount function, we need to choose the parameters such discounting known bond cash flows gets as close as possible to their observed market prices. If we let $t_n$ denote the time distance from today (time $t$) to the $n$'th payment date we would obtain \n",
    "\n",
    "$$\n",
    "B_i = \\sum_{n=1}^N Y_{in} B(t_n) + \\varepsilon_i\n",
    "$$\n",
    "\n",
    "where $\\varepsilon_i$ is the pricing error for bond $i$. Since we have specified the functional form for $B(\\tau)$, we can write \n",
    "\n",
    "$$\n",
    "B_i = \\sum_{n=1}^N Y_{in} \\left[1 + \\beta_0 t_n + \\gamma_0 t_n^2 + \\delta_0 t_n^3 + \\sum_{j=1}^{k-1} \\delta_j (t_n - \\tau_j)^3 I_j(\\tau)\\right] + \\varepsilon_i\n",
    "$$\n",
    "\n",
    "which also implies\n",
    "\n",
    "$$\n",
    "B_i  - \\sum_{n=1}^N Y_{in} = \\beta_0 \\sum_{n=1}^N Y_{in}  t_n + \\gamma_0 \\sum_{n=1}^N Y_{in}  t_n^2 + \\delta_0 \\sum_{n=1}^N Y_{in}  t_n^3 + \\sum_{j=1}^{k-1} \\sum_{n=1}^N Y_{in}  \\delta_j (t_n - \\tau_j)^3 I_j(\\tau) + \\varepsilon_i\n",
    "$$\n",
    "\n",
    "Given $M$ bonds, we can simply estimate the model using OLS. Before estimating the discount function, we need to choose the number of subintervals $k$ (number of knot points).  McCulloch (1975) suggests to set $k$ equal to the nearest integer to $\\sqrt{M}$  and define\n",
    "\n",
    "$$\n",
    "\\tau_j = T_{h_j} + \\theta_j (T_{h_j} - T_{h_j})\n",
    "$$\n",
    "\n",
    "where $h_j = \\lfloor j \\cdot M / k\\rfloor $ (the integer part) and $\\theta_j = j \\cdot M / k - h_j$. Alternativly one can choose reasonable values that span the curve. \n",
    "\n",
    "There are some problems with the cubic spline methodology:\n",
    "\n",
    "* May violate the no-arbitrage principle\n",
    "* The resulting curve may not have an economically credible form (positive forward rates)\n",
    "* May be very sensitive to the location of the knot points\n",
    "* Small changes in input bond prices may have a large effect on the results\n",
    "\n",
    "__Example:__\n",
    "\n",
    "Below we will implement the cubic spline methodology to the same example used above. \n",
    "\n",
    "First, we define the relevant functions to perform the calculation. "
   ]
  },
  {
   "cell_type": "code",
   "execution_count": 21,
   "id": "sought-morris",
   "metadata": {},
   "outputs": [],
   "source": [
    "def cubic_spline_discount_factor(tenor: Union[float, np.ndarray],\n",
    "                                 params: np.ndarray,\n",
    "                                 tau_values: np.ndarray):\n",
    "    \n",
    "    \"\"\"\n",
    "    Calculates the discount factors for the Cubic Spline methodology\n",
    "    \n",
    "    Parameters\n",
    "    ----------\n",
    "    \n",
    "    tenor:\n",
    "        Tenor for which to get the discount factor.\n",
    "    params: \n",
    "        Parameters for the cubic spline.\n",
    "    tau_values: \n",
    "        The knot points of the cubic spline. \n",
    "        \n",
    "    Return\n",
    "    ------\n",
    "    Union[float, np.ndarray]\n",
    "        The discount factor. \n",
    "    \n",
    "    \"\"\"\n",
    "    \n",
    "    # ensure that the tenor is at least 1-d \n",
    "    tenor = np.atleast_1d(tenor)\n",
    "    \n",
    "    # create the \"tau matrix\" consisting of tenor - tau_j \n",
    "    tau_matrix = tenor[:, None]  - tau_values[None, :]\n",
    "    \n",
    "    # apply the discount factor formula\n",
    "    zcb = (1 + params[0] * tenor + params[1] * tenor**2 + \n",
    "           params[2] * tenor**3 +\n",
    "           (tau_matrix**3 * (tau_matrix >= 0)) @ params[3:])\n",
    "\n",
    "    return zcb\n",
    "\n",
    "def cubic_spline_zero_yield(tenor, params, tau_values, discrete=True):\n",
    "    \n",
    "    \"\"\"\n",
    "    Calculates the zero yield for the Cubic Spline methodology\n",
    "    \n",
    "    Parameters\n",
    "    ----------\n",
    "    \n",
    "    tenor:\n",
    "        Tenor for which to get the zero yield factor.\n",
    "    params: \n",
    "        Parameters for the cubic spline.\n",
    "    tau_values: \n",
    "        The knot points of the cubic spline. \n",
    "        \n",
    "    Return\n",
    "    ------\n",
    "    Union[float, np.ndarray]\n",
    "        The zero yield. \n",
    "    \n",
    "    \"\"\"\n",
    "    # calculate discount factors\n",
    "    zcb = cubic_spline_discount_factor(tenor, params, tau_values)\n",
    "    # apply the relationship between discount factor and zero yield\n",
    "    if discrete:\n",
    "        y = zcb**(-1 / tenor) - 1\n",
    "    else:\n",
    "        y = -np.log(zcb) / tenor\n",
    "        \n",
    "    return y\n",
    "\n",
    "\n",
    "def estimate_cubic_spline(payment_dates: np.ndarray,\n",
    "                          cash_flow_matrix: np.ndarray,\n",
    "                          market_prices: np.ndarray, \n",
    "                          tau_values: np.ndarray): \n",
    "    \n",
    "    \"\"\"\n",
    "    Estimate parameters for the cubic spline curve. \n",
    "    \n",
    "    Parameters\n",
    "    ----------\n",
    "    \n",
    "    payment_dates:\n",
    "        All cash flow payment dates.\n",
    "    cash_flow_matrix: \n",
    "        Cash flow matrix [number bonds x number payment dates].\n",
    "    market_prices:\n",
    "        Bond market prices. \n",
    "    tau_values: \n",
    "        The knot points of the cubic spline. \n",
    "        \n",
    "    Return\n",
    "    ------\n",
    "    Union[float, np.ndarray]\n",
    "        The zero yield. \n",
    "    \n",
    "    \"\"\"\n",
    "    \n",
    "    # step 1: create independent variables\n",
    "    tau_matrix = payment_dates[:, None]  - tau_values[None, :]\n",
    "    tau_matrix = tau_matrix**3 * (tau_matrix >= 0)\n",
    "    \n",
    "    x_mat = np.c_[(cash_flow_matrix @ payment_dates,\n",
    "                   cash_flow_matrix @ payment_dates**2,\n",
    "                   cash_flow_matrix @ payment_dates**3,\n",
    "                   cash_flow_matrix @ tau_matrix)]\n",
    "    \n",
    "    # step 2: create dependent variable\n",
    "    y_vec = market_prices - np.sum(cash_flow_matrix, axis=1)\n",
    "    \n",
    "    # step 3: performe OLS regression \n",
    "    params = np.linalg.lstsq(x_mat, y_vec, rcond=False)[0]\n",
    "    \n",
    "    return params  "
   ]
  },
  {
   "cell_type": "code",
<<<<<<< Updated upstream
   "execution_count": 3,
   "id": "d10d5772",
   "metadata": {},
   "outputs": [
    {
     "data": {
      "text/plain": [
       "array([0.00799284, 0.03345264])"
      ]
     },
     "execution_count": 3,
     "metadata": {},
     "output_type": "execute_result"
    }
   ],
   "source": [
    "#test_tenor = np.array([1.0, 10.0])\n",
    "#test_tau_values = np.array([1.0, 5.0, 7.0])\n",
    "#test_params = np.array([-3.32962635e-02,  7.70595423e-03, -3.78081712e-03,  4.15205336e-03, 2.68586344e-05, -1.35004589e-03])\n",
    "\n",
    "#test_tenor[:, None]  - test_tau_values[None, :]\n",
    "#(test_tenor[:, None]  - test_tau_values[None, :]) @ test_params[3:]"
   ]
  },
  {
   "cell_type": "code",
   "execution_count": 27,
=======
   "execution_count": 22,
>>>>>>> Stashed changes
   "id": "geological-forwarding",
   "metadata": {},
   "outputs": [],
   "source": [
    "\"\"\"\n",
    "Just redefine price vector and cash flow matrix from first example\n",
    "\"\"\"\n",
    "\n",
    "\n",
    "\"\"\"\n",
    "Define price vector \n",
    "\"\"\"\n",
    "\n",
    "prices = np.array([101.942, 103.290, 104.118, 104.460, 104.355,\n",
    "                   104.256, 104.552, 105.210, 105.482, 105.399])\n",
    "\n",
    "\"\"\"\n",
    "Create relevant cash flow matrix\n",
    "\"\"\"\n",
    "\n",
    "maturities = np.arange(1.0, 10.0 + 1.0, 1.0)\n",
    "all_terms = np.arange(1.0, 10.0 + 1.0, 1.0)\n",
    "cash_flow_matrix = np.tri(10) * 5 + np.eye(10) * 100"
   ]
  },
  {
   "cell_type": "code",
   "execution_count": 23,
   "id": "north-metropolitan",
   "metadata": {},
   "outputs": [],
   "source": [
    "# estimate parametes\n",
    "params = estimate_cubic_spline(all_terms, cash_flow_matrix, prices, np.array([1.0, 5.0, 7.0]))"
   ]
  },
  {
   "cell_type": "code",
   "execution_count": 24,
   "id": "dynamic-dragon",
   "metadata": {},
   "outputs": [],
   "source": [
    "tenors_to_plot = np.linspace(1.0, 10.0, 50)\n",
    "\n",
    "# calculate discount factors and zero yields\n",
    "discount_factors_cubic = cubic_spline_discount_factor(tenors_to_plot, params, np.array([1.0, 5.0, 7.0]))\n",
    "zero_yields_cubic = cubic_spline_zero_yield(tenors_to_plot, params, np.array([1.0, 5.0, 7.0]))"
   ]
  },
  {
   "cell_type": "code",
   "execution_count": 25,
   "id": "attractive-wesley",
   "metadata": {},
   "outputs": [
    {
     "data": {
      "image/png": "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\n",
      "text/plain": [
       "<Figure size 864x432 with 1 Axes>"
      ]
     },
     "metadata": {
      "needs_background": "light"
     },
     "output_type": "display_data"
    }
   ],
   "source": [
    "fig, ax = plt.subplots(figsize=(12,6)) \n",
    "ax.plot(maturities, zero_yields_boot, marker='o', label=\"Boostrapped\");\n",
    "ax.plot(tenors_to_plot, zero_yields_cubic, marker='+', markersize=10, label=\"Cubic spline\");\n",
    "ax.set_xlabel('Tenor');\n",
    "ax.set_ylabel('Zero yields (annual)');\n",
    "ax.legend();"
   ]
  },
  {
   "cell_type": "markdown",
   "id": "scheduled-australia",
   "metadata": {},
   "source": [
    "### Alternatives to bootstrapping: Nelson-Siegel\n",
    "\n",
    "__Note:__ The notation differ somewhat from the exercises in week 5. \n",
    "\n",
    "\n",
    "[Nelson and Siegel (1987)](https://www.jstor.org/stable/2352957) proposed a often used parameterization of the term structure of interest. They specified the following parameterization of the instantaneous forward rate\n",
    "\n",
    "$$\n",
    "f(\\tau) = \\beta_0 + \\beta_1 e^{-\\tau / \\theta} + \\beta_2 \\frac{\\tau}{\\theta} e^{-\\tau / \\theta} \n",
    "$$\n",
    "\n",
    "From newly gained knowledge, we know that the continuous zero coupon yield can be written as\n",
    "\n",
    "$$\n",
    "y(\\tau) = \\frac{1}{\\tau} \\intop_{0}^\\tau f(u)  du = \\beta_0 + \\beta_1 \\frac{1 - e^{-\\tau / \\theta}}{\\tau / \\theta} + \\beta_2 \\left(\\frac{1 - e^{-\\tau / \\theta}}{\\tau / \\theta} - e^{-\\tau / \\theta} \\right)\n",
    "$$\n",
    "\n",
    "The interpretation of the different terms in the above expression for the zero yields is intuitive. We can think of the parametes $\\beta_0$, $\\beta_1$ and $\\beta_2$ as the relative weight of three factors. The first factor is the level factor (just equal to one) which affects all tenors (maturities) in the same way. The second factor is the slope factor mostly affecting short maturites. The third factor is the curvature factor primarily affecting intermediate tenors. "
   ]
  },
  {
   "cell_type": "code",
   "execution_count": 18,
   "id": "functioning-while",
   "metadata": {},
   "outputs": [],
   "source": [
    "# define  slope and curveture factor loadings\n",
    "def calculate_slope(time_to_maturity: Union[float, np.ndarray], theta: float): \n",
    "    \n",
    "    return (1 - np.exp(-time_to_maturity / theta)) / (time_to_maturity / theta)\n",
    "\n",
    "def calculate_curvature(time_to_maturity: Union[float, np.ndarray], theta: float): \n",
    "    \n",
    "    return (1 - np.exp(-time_to_maturity / theta)) / (time_to_maturity / theta) - np.exp(-(time_to_maturity / theta))"
   ]
  },
  {
   "cell_type": "code",
   "execution_count": 19,
   "id": "descending-southeast",
   "metadata": {},
   "outputs": [
    {
     "data": {
      "image/png": "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\n",
      "text/plain": [
       "<Figure size 864x432 with 1 Axes>"
      ]
     },
     "metadata": {
      "needs_background": "light"
     },
     "output_type": "display_data"
    }
   ],
   "source": [
    "time_to_maturities = np.linspace(0.0001, 30.0, 1000)\n",
    "theta = 2.0\n",
    "\n",
    "level_factors = np.ones_like(time_to_maturities)\n",
    "slope_factors = calculate_slope(time_to_maturities, theta)\n",
    "curvature_factors = calculate_curvature(time_to_maturities, theta)\n",
    "\n",
    "\"\"\"\n",
    "Plotting \n",
    "\"\"\"\n",
    "\n",
    "fig, ax = plt.subplots(figsize=(12, 6))\n",
    "ax.plot(time_to_maturities, level_factors, label=\"Level factor\")\n",
    "ax.plot(time_to_maturities, slope_factors, label=\"Slope factor\")\n",
    "ax.plot(time_to_maturities, curvature_factors, label=\"Curvature factor\")\n",
    "ax.set_xlabel('Tenor')\n",
    "ax.set_ylim([0.0, 1.05])\n",
    "ax.legend();"
   ]
  },
  {
   "cell_type": "markdown",
   "id": "understood-heaven",
   "metadata": {},
   "source": [
    "We can write the discount function as\n",
    "\n",
    "$$\n",
    "B(\\tau) = e^{ - \\tau \\cdot y(\\tau)} = \\exp \\left[ - \\tau\\beta_0 - \\beta_1 \\frac{1 - e^{-\\tau / \\theta}}{1 / \\theta} -  \\beta_2 \\left(\\frac{1 - e^{-\\tau / \\theta}}{1 / \\theta} - \\tau e^{-\\tau / \\theta} \\right) \\right]\n",
    "$$\n",
    "\n",
    "Again, we can write \n",
    "\n",
    "$$\n",
    "B_i = \\sum_{n=1}^N Y_i \\exp  \\left[ - \\tau\\beta_0 - \\beta_1 \\theta (1 - e^{-\\tau / \\theta}) -  \\beta_2 \\left(\\theta (1 - e^{-\\tau / \\theta}) - \\tau e^{-\\tau / \\theta} \\right) \\right] + \\varepsilon_i\n",
    "$$\n",
    "\n",
    "since this is a non-linear expression, we need to use non-linear least squares when estimating the parameters. \n",
    "\n",
    "__Example__\n",
    "\n",
    "Estimate the parameters of a Nelson-Siegel curve using the same data as in the previous examples. \n",
    "\n",
    "First, we define relevant functions. "
   ]
  },
  {
   "cell_type": "code",
   "execution_count": 20,
   "id": "official-premium",
   "metadata": {},
   "outputs": [],
   "source": [
    "def nelson_siegel_discount_factor(tenor: Union[float, np.ndarray],\n",
    "                                  params):\n",
    "    \n",
    "    beta0 = params[0]\n",
    "    beta1 = params[1]\n",
    "    beta2 = params[2]\n",
    "    theta = params[3]\n",
    "    \n",
    "    level = np.ones_like(tenor)\n",
    "    slope = calculate_slope(tenor, theta)\n",
    "    curvature = calculate_curvature(tenor, theta)\n",
    "    \n",
    "    return np.exp(-tenor * (beta0 * level + beta1 * slope + beta2 * curvature))\n",
    "\n",
    "def nelson_siegel_zero_yield(tenor: Union[float, np.ndarray], params):\n",
    "    \n",
    "    beta0 = params[0]\n",
    "    beta1 = params[1]\n",
    "    beta2 = params[2]\n",
    "    theta = params[3]\n",
    "    \n",
    "    level = np.ones_like(tenor)\n",
    "    slope = calculate_slope(tenor, theta)\n",
    "    curvature = calculate_curvature(tenor, theta)\n",
    "    \n",
    "    return beta0 * level + beta1 * slope + beta2 * curvature\n",
    "\n",
    "\n",
    "def nelson_siegel_objective(params: np.ndarray,\n",
    "                            payment_dates: np.ndarray,\n",
    "                            cash_flow_matrix: np.ndarray,\n",
    "                            market_prices: np.ndarray):\n",
    "    \n",
    "    return np.sum(np.square(market_prices - \n",
    "                            cash_flow_matrix @ nelson_siegel_discount_factor(payment_dates, params)))\n",
    "\n",
    "def nelson_siegel_brute_objective(theta,\n",
    "                                  payment_dates: np.ndarray,\n",
    "                                  cash_flow_matrix: np.ndarray,\n",
    "                                  market_prices: np.ndarray):\n",
    "    \n",
    "    x0 = np.array([0.1, 0.1, 0.1, float(theta)])\n",
    "    \n",
    "    constraint = {'type': 'eq',\n",
    "                  'fun' : lambda x: x[-1] - theta}\n",
    "    \n",
    "    bounds = [(-1.0, 15.0), (-15.0, 30.0), (-30.0, 30.0), (0, 10.0)]\n",
    "    \n",
    "    res = minimize(nelson_siegel_objective, x0=x0, args=(payment_dates, cash_flow_matrix, market_prices),\n",
    "                   constraints=constraint, bounds=bounds)\n",
    "    \n",
    "    return nelson_siegel_objective(res.x, payment_dates, cash_flow_matrix, market_prices)\n"
   ]
  },
  {
   "cell_type": "code",
   "execution_count": 21,
   "id": "noticed-essex",
   "metadata": {},
   "outputs": [
    {
     "data": {
      "text/plain": [
       "array([4.95805664])"
      ]
     },
     "execution_count": 21,
     "metadata": {},
     "output_type": "execute_result"
    }
   ],
   "source": [
    "res = optimize.brute(nelson_siegel_brute_objective, (slice(0.1, 25.0),),\n",
    "                     args=(all_terms, cash_flow_matrix, prices), Ns=99999)\n",
    "\n",
    "res"
   ]
  },
  {
   "cell_type": "code",
   "execution_count": 22,
   "id": "infectious-birth",
   "metadata": {},
   "outputs": [],
   "source": [
    "res = minimize(nelson_siegel_objective, x0=[0.01, 0.01, 0.01, 4.8],\n",
    "               args=(all_terms, cash_flow_matrix, prices))"
   ]
  },
  {
   "cell_type": "code",
   "execution_count": 23,
   "id": "adolescent-premiere",
   "metadata": {},
   "outputs": [
    {
     "data": {
      "text/plain": [
       "array([ 0.02725464, -0.00508133,  0.05919084,  4.98327404])"
      ]
     },
     "execution_count": 23,
     "metadata": {},
     "output_type": "execute_result"
    }
   ],
   "source": [
    "res.x"
   ]
  },
  {
   "cell_type": "code",
   "execution_count": 24,
   "id": "cooked-integral",
   "metadata": {},
   "outputs": [
    {
     "data": {
      "image/png": "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\n",
      "text/plain": [
       "<Figure size 864x432 with 1 Axes>"
      ]
     },
     "metadata": {
      "needs_background": "light"
     },
     "output_type": "display_data"
    }
   ],
   "source": [
    "# calculate discount factors and zero yields\n",
    "discount_factors_ns = nelson_siegel_discount_factor(tenors_to_plot, res.x)\n",
    "zero_yields_ns = nelson_siegel_zero_yield(tenors_to_plot, res.x)\n",
    "\n",
    "fig, ax = plt.subplots(figsize=(12,6)) \n",
    "ax.plot(maturities, zero_yields_boot, marker='o', label=\"Boostrapped\");\n",
    "ax.plot(tenors_to_plot, zero_yields_cubic, marker='+', markersize=10, label=\"Cubic spline\");\n",
    "ax.plot(tenors_to_plot, discount_factors_ns ** (-1 / tenors_to_plot) - 1,\n",
    "        marker='*', markersize=10, label=\"Nelson Siegel\");\n",
    "ax.set_xlabel('Tenor');\n",
    "ax.set_ylabel('Zero yields (annual)');\n",
    "ax.legend();"
   ]
  },
  {
   "cell_type": "code",
   "execution_count": 25,
   "id": "minute-permit",
   "metadata": {},
   "outputs": [
    {
     "data": {
      "image/png": "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\n",
      "text/plain": [
       "<Figure size 864x432 with 1 Axes>"
      ]
     },
     "metadata": {
      "needs_background": "light"
     },
     "output_type": "display_data"
    }
   ],
   "source": [
    "time_to_maturities = np.linspace(0.0001, 30.0, 1000)\n",
    "theta = res.x[-1]\n",
    "\n",
    "level_factors = np.ones_like(time_to_maturities)\n",
    "slope_factors = calculate_slope(time_to_maturities, theta)\n",
    "curvature_factors = calculate_curvature(time_to_maturities, theta)\n",
    "\n",
    "\n",
    "\"\"\"\n",
    "Plotting \n",
    "\"\"\"\n",
    "\n",
    "fig, ax = plt.subplots(figsize=(12, 6))\n",
    "ax.plot(time_to_maturities, level_factors, label=\"Level factor\")\n",
    "ax.plot(time_to_maturities, slope_factors, label=\"Slope factor\")\n",
    "ax.plot(time_to_maturities, curvature_factors, label=\"Curvature factor\")\n",
    "ax.set_xlabel('Tenor')\n",
    "ax.set_ylim([0.0, 1.05])\n",
    "ax.legend();"
   ]
  },
  {
   "cell_type": "markdown",
   "id": "hourly-passion",
   "metadata": {},
   "source": [
    "# References\n",
    "\n",
    "## Articles\n",
    "\n",
    "[McCulloch (1975)](https://www.jstor.org/stable/2326860)\n",
    "\n",
    "[Svensson (1994)](https://www.nber.org/papers/w4871)\n",
    "\n",
    "[Nelson and Siegel (1987)](https://www.jstor.org/stable/2352957)\n",
    "\n",
    "## Books\n",
    "\n",
    "[Claus Munk (2013), \"Fixed income modelling\"](https://www.amazon.co.uk/Fixed-Income-Modelling-Claus-Munk/dp/0198716443)\n"
   ]
  }
 ],
 "metadata": {
  "kernelspec": {
   "display_name": "Python 3 (ipykernel)",
   "language": "python",
   "name": "python3"
  },
  "language_info": {
   "codemirror_mode": {
    "name": "ipython",
    "version": 3
   },
   "file_extension": ".py",
   "mimetype": "text/x-python",
   "name": "python",
   "nbconvert_exporter": "python",
   "pygments_lexer": "ipython3",
   "version": "3.11.4"
  }
 },
 "nbformat": 4,
 "nbformat_minor": 5
}
