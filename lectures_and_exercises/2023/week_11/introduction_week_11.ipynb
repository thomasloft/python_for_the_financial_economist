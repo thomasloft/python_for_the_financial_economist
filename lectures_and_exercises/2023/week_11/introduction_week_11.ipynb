{
 "cells": [
  {
   "cell_type": "markdown",
   "id": "sustainable-funds",
   "metadata": {},
   "source": [
    "# Week 11:  Black-Litterman / Fully-Flexible Views\n",
    "\n",
    " Black-Litterman \n",
    "\n",
    "In this week, we will look at the Black-Litterman approach to portfolio optimization. For the interested, a notebook on Fully Flexible Views as an alternative to the Black-Litterman approach. "
   ]
  },
  {
   "cell_type": "markdown",
   "id": "ahead-rebound",
   "metadata": {},
   "source": [
    "## Lectures and exercises\n",
    "\n",
    "The **lectures** cover\n",
    "\n",
    "* Implementation of the Black-Litterman model\n",
    "* Implementation of the method in [Attilio Meucci (2010), Fully Flexible Views: Theory and Practice](https://papers.ssrn.com/sol3/papers.cfm?abstract_id=1213325) \n",
    "\n",
    "The **exercises** cover\n",
    "\n",
    "* Implementation of Black-Litterman\n",
    "* Scenario analysis using the implemented method [Optional]\n",
    "* Portfolio optimization using the implemented method [Optional]"
   ]
  }
 ],
 "metadata": {
  "kernelspec": {
   "display_name": "Python 3 (ipykernel)",
   "language": "python",
   "name": "python3"
  },
  "language_info": {
   "codemirror_mode": {
    "name": "ipython",
    "version": 3
   },
   "file_extension": ".py",
   "mimetype": "text/x-python",
   "name": "python",
   "nbconvert_exporter": "python",
   "pygments_lexer": "ipython3",
   "version": "3.11.4"
  }
 },
 "nbformat": 4,
 "nbformat_minor": 5
}
