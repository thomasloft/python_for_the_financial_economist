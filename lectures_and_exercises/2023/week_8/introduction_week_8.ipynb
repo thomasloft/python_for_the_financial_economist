{
 "cells": [
  {
   "cell_type": "markdown",
   "id": "sustainable-funds",
   "metadata": {},
   "source": [
    "# Week 8: The covariance matrix \n",
    "\n",
    "In this week, we will have a closer look at the covariance and correlation matrix. "
   ]
  },
  {
   "cell_type": "markdown",
   "id": "ahead-rebound",
   "metadata": {},
   "source": [
    "## Lectures and exercises\n",
    "\n",
    "The **lectures** cover\n",
    "\n",
    "* Shrinkage estimation of the covariance matrix\n",
    "* Denoising the correlation matrix using knowledge from random matrix theory\n",
    "\n",
    "The **exercises** cover\n",
    "\n",
    "* Implemention of single index shrinkage model [optional]\n",
    "* Implemention of simulation study to see the effect of denoising the covariance matrix\n",
    "* Distribution of the covariance matrix when data follows a multivariate normal distribution \n",
    "* Implemention of exponential filter to estimate the covariance matrix"
   ]
  }
 ],
 "metadata": {
  "kernelspec": {
   "display_name": "Python 3 (ipykernel)",
   "language": "python",
   "name": "python3"
  },
  "language_info": {
   "codemirror_mode": {
    "name": "ipython",
    "version": 3
   },
   "file_extension": ".py",
   "mimetype": "text/x-python",
   "name": "python",
   "nbconvert_exporter": "python",
   "pygments_lexer": "ipython3",
   "version": "3.11.4"
  }
 },
 "nbformat": 4,
 "nbformat_minor": 5
}
